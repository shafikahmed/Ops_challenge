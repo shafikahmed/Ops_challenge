{
  "nbformat": 4,
  "nbformat_minor": 0,
  "metadata": {
    "colab": {
      "name": "Untitled1.ipynb",
      "version": "0.3.2",
      "provenance": []
    },
    "kernelspec": {
      "name": "python3",
      "display_name": "Python 3"
    }
  },
  "cells": [
    {
      "metadata": {
        "id": "Ua2iSKyvh28M",
        "colab_type": "code",
        "colab": {}
      },
      "cell_type": "code",
      "source": [
        "import pandas as pd\n",
        "import numpy as np\n",
        "import datetime as dt\n",
        "from datetime import datetime"
      ],
      "execution_count": 0,
      "outputs": []
    },
    {
      "metadata": {
        "id": "970GBvL4h7Sn",
        "colab_type": "code",
        "colab": {
          "resources": {
            "http://localhost:8080/nbextensions/google.colab/files.js": {
              "data": "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",
              "ok": true,
              "headers": [
                [
                  "content-type",
                  "application/javascript"
                ]
              ],
              "status": 200,
              "status_text": ""
            }
          },
          "base_uri": "https://localhost:8080/",
          "height": 71
        },
        "outputId": "4dcb79c2-7cf2-4d4a-dbe7-efbecc8c3369"
      },
      "cell_type": "code",
      "source": [
        "from google.colab import files\n",
        "uploaded = files.upload()"
      ],
      "execution_count": 2,
      "outputs": [
        {
          "output_type": "display_data",
          "data": {
            "text/html": [
              "\n",
              "     <input type=\"file\" id=\"files-9860ed96-2770-4af7-bf91-4b30b674a5e0\" name=\"files[]\" multiple disabled />\n",
              "     <output id=\"result-9860ed96-2770-4af7-bf91-4b30b674a5e0\">\n",
              "      Upload widget is only available when the cell has been executed in the\n",
              "      current browser session. Please rerun this cell to enable.\n",
              "      </output>\n",
              "      <script src=\"/nbextensions/google.colab/files.js\"></script> "
            ],
            "text/plain": [
              "<IPython.core.display.HTML object>"
            ]
          },
          "metadata": {
            "tags": []
          }
        },
        {
          "output_type": "stream",
          "text": [
            "Saving doc_reports.csv to doc_reports.csv\n"
          ],
          "name": "stdout"
        }
      ]
    },
    {
      "metadata": {
        "id": "Gq4VELSkh9Ct",
        "colab_type": "code",
        "colab": {
          "resources": {
            "http://localhost:8080/nbextensions/google.colab/files.js": {
              "data": "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",
              "ok": true,
              "headers": [
                [
                  "content-type",
                  "application/javascript"
                ]
              ],
              "status": 200,
              "status_text": ""
            }
          },
          "base_uri": "https://localhost:8080/",
          "height": 71
        },
        "outputId": "72869dbf-17d6-43d8-fb29-910c280fd792"
      },
      "cell_type": "code",
      "source": [
        "uploaded = files.upload()"
      ],
      "execution_count": 3,
      "outputs": [
        {
          "output_type": "display_data",
          "data": {
            "text/html": [
              "\n",
              "     <input type=\"file\" id=\"files-5a5cf2d4-7e78-498f-b6b3-0aa57e1ab1f2\" name=\"files[]\" multiple disabled />\n",
              "     <output id=\"result-5a5cf2d4-7e78-498f-b6b3-0aa57e1ab1f2\">\n",
              "      Upload widget is only available when the cell has been executed in the\n",
              "      current browser session. Please rerun this cell to enable.\n",
              "      </output>\n",
              "      <script src=\"/nbextensions/google.colab/files.js\"></script> "
            ],
            "text/plain": [
              "<IPython.core.display.HTML object>"
            ]
          },
          "metadata": {
            "tags": []
          }
        },
        {
          "output_type": "stream",
          "text": [
            "Saving facial_similarity_reports.csv to facial_similarity_reports.csv\n"
          ],
          "name": "stdout"
        }
      ]
    },
    {
      "metadata": {
        "id": "UKUKY3XaltLq",
        "colab_type": "code",
        "colab": {}
      },
      "cell_type": "code",
      "source": [
        "doc_reports = pd.read_csv('doc_reports.csv',index_col = 0)\n",
        "facial_reports = pd.read_csv('facial_similarity_reports.csv',index_col=0)"
      ],
      "execution_count": 0,
      "outputs": []
    },
    {
      "metadata": {
        "id": "9oYINrLKoBBQ",
        "colab_type": "code",
        "colab": {}
      },
      "cell_type": "code",
      "source": [
        "x=doc_reports['properties'].map(eval)\n",
        "y=x.apply(pd.Series)"
      ],
      "execution_count": 0,
      "outputs": []
    },
    {
      "metadata": {
        "id": "1wQhObExoLYR",
        "colab_type": "code",
        "colab": {}
      },
      "cell_type": "code",
      "source": [
        "doc_reports=pd.concat([doc_reports.drop(['properties'], axis=1), y], axis=1)"
      ],
      "execution_count": 0,
      "outputs": []
    },
    {
      "metadata": {
        "id": "6p0pfGK2pGwo",
        "colab_type": "code",
        "colab": {}
      },
      "cell_type": "code",
      "source": [
        "doc_reports['created_at'] = pd.to_datetime(doc_reports['created_at'])\n",
        "doc_reports['date_of_expiry'] = pd.to_datetime(doc_reports['date_of_expiry'],errors='coerce')\n",
        "doc_reports['created_at'] = doc_reports['created_at'].dt.strftime('%Y-%m-%d')"
      ],
      "execution_count": 0,
      "outputs": []
    },
    {
      "metadata": {
        "id": "IHwiY2NspS9Z",
        "colab_type": "code",
        "colab": {}
      },
      "cell_type": "code",
      "source": [
        "facial_reports['created_at'] = pd.to_datetime(facial_reports['created_at'])\n",
        "facial_reports['created_at'] = facial_reports['created_at'].dt.strftime('%Y-%m-%d')"
      ],
      "execution_count": 0,
      "outputs": []
    },
    {
      "metadata": {
        "id": "CTHCOIe5phuh",
        "colab_type": "code",
        "colab": {
          "base_uri": "https://localhost:8080/",
          "height": 34
        },
        "outputId": "06bbfe5b-9381-4cd6-a48f-faa85dcb56ea"
      },
      "cell_type": "code",
      "source": [
        "doc_reports['user_id'].equals(facial_reports['user_id'])"
      ],
      "execution_count": 18,
      "outputs": [
        {
          "output_type": "execute_result",
          "data": {
            "text/plain": [
              "True"
            ]
          },
          "metadata": {
            "tags": []
          },
          "execution_count": 18
        }
      ]
    },
    {
      "metadata": {
        "id": "l_M6xhl0pkFj",
        "colab_type": "code",
        "colab": {}
      },
      "cell_type": "code",
      "source": [
        "df = facial_reports.merge(doc_reports, on = facial_reports.index,)\n",
        "df = df.drop(['key_0'], 1)"
      ],
      "execution_count": 0,
      "outputs": []
    },
    {
      "metadata": {
        "id": "_Y9L3qB3pnKq",
        "colab_type": "code",
        "colab": {
          "base_uri": "https://localhost:8080/",
          "height": 253
        },
        "outputId": "e98b8e65-8baf-4c73-ac43-c45bfa298190"
      },
      "cell_type": "code",
      "source": [
        "df.head()"
      ],
      "execution_count": 20,
      "outputs": [
        {
          "output_type": "execute_result",
          "data": {
            "text/html": [
              "<div>\n",
              "<style scoped>\n",
              "    .dataframe tbody tr th:only-of-type {\n",
              "        vertical-align: middle;\n",
              "    }\n",
              "\n",
              "    .dataframe tbody tr th {\n",
              "        vertical-align: top;\n",
              "    }\n",
              "\n",
              "    .dataframe thead th {\n",
              "        text-align: right;\n",
              "    }\n",
              "</style>\n",
              "<table border=\"1\" class=\"dataframe\">\n",
              "  <thead>\n",
              "    <tr style=\"text-align: right;\">\n",
              "      <th></th>\n",
              "      <th>user_id_x</th>\n",
              "      <th>result_x</th>\n",
              "      <th>face_comparison_result</th>\n",
              "      <th>created_at_x</th>\n",
              "      <th>facial_image_integrity_result</th>\n",
              "      <th>visual_authenticity_result_x</th>\n",
              "      <th>properties</th>\n",
              "      <th>attempt_id_x</th>\n",
              "      <th>user_id_y</th>\n",
              "      <th>result_y</th>\n",
              "      <th>...</th>\n",
              "      <th>compromised_document_result</th>\n",
              "      <th>sub_result</th>\n",
              "      <th>gender</th>\n",
              "      <th>nationality</th>\n",
              "      <th>document_type</th>\n",
              "      <th>date_of_expiry</th>\n",
              "      <th>issuing_country</th>\n",
              "      <th>issuing_date</th>\n",
              "      <th>issuing_state</th>\n",
              "      <th>document_version</th>\n",
              "    </tr>\n",
              "  </thead>\n",
              "  <tbody>\n",
              "    <tr>\n",
              "      <th>0</th>\n",
              "      <td>ab23fae164e34af0a1ad1423ce9fd9f0</td>\n",
              "      <td>clear</td>\n",
              "      <td>clear</td>\n",
              "      <td>2017-06-20</td>\n",
              "      <td>clear</td>\n",
              "      <td>consider</td>\n",
              "      <td>{}</td>\n",
              "      <td>050a0596de424fab83c433eaa18b3f8d</td>\n",
              "      <td>ab23fae164e34af0a1ad1423ce9fd9f0</td>\n",
              "      <td>consider</td>\n",
              "      <td>...</td>\n",
              "      <td>NaN</td>\n",
              "      <td>caution</td>\n",
              "      <td>Male</td>\n",
              "      <td>IRL</td>\n",
              "      <td>passport</td>\n",
              "      <td>2019-08-12</td>\n",
              "      <td>IRL</td>\n",
              "      <td>NaN</td>\n",
              "      <td>NaN</td>\n",
              "      <td>NaN</td>\n",
              "    </tr>\n",
              "    <tr>\n",
              "      <th>1</th>\n",
              "      <td>15a84e8951254011b47412fa4e8f65b8</td>\n",
              "      <td>clear</td>\n",
              "      <td>clear</td>\n",
              "      <td>2017-06-20</td>\n",
              "      <td>clear</td>\n",
              "      <td>clear</td>\n",
              "      <td>{}</td>\n",
              "      <td>f69c1e5f45a64e50a26740b9bfb978b7</td>\n",
              "      <td>15a84e8951254011b47412fa4e8f65b8</td>\n",
              "      <td>clear</td>\n",
              "      <td>...</td>\n",
              "      <td>NaN</td>\n",
              "      <td>clear</td>\n",
              "      <td>Female</td>\n",
              "      <td>NaN</td>\n",
              "      <td>driving_licence</td>\n",
              "      <td>2023-02-28</td>\n",
              "      <td>GBR</td>\n",
              "      <td>NaN</td>\n",
              "      <td>NaN</td>\n",
              "      <td>NaN</td>\n",
              "    </tr>\n",
              "    <tr>\n",
              "      <th>2</th>\n",
              "      <td>ffb82fda52b041e4b9af9cb4ef298c85</td>\n",
              "      <td>clear</td>\n",
              "      <td>clear</td>\n",
              "      <td>2017-06-20</td>\n",
              "      <td>clear</td>\n",
              "      <td>clear</td>\n",
              "      <td>{}</td>\n",
              "      <td>f9f84f3055714d8e8f7419dc984d1769</td>\n",
              "      <td>ffb82fda52b041e4b9af9cb4ef298c85</td>\n",
              "      <td>clear</td>\n",
              "      <td>...</td>\n",
              "      <td>NaN</td>\n",
              "      <td>clear</td>\n",
              "      <td>Male</td>\n",
              "      <td>ITA</td>\n",
              "      <td>passport</td>\n",
              "      <td>2018-06-09</td>\n",
              "      <td>ITA</td>\n",
              "      <td>NaN</td>\n",
              "      <td>NaN</td>\n",
              "      <td>NaN</td>\n",
              "    </tr>\n",
              "    <tr>\n",
              "      <th>3</th>\n",
              "      <td>bd4a8b3e3601427e88aa1d9eab9f4290</td>\n",
              "      <td>clear</td>\n",
              "      <td>clear</td>\n",
              "      <td>2017-06-20</td>\n",
              "      <td>clear</td>\n",
              "      <td>clear</td>\n",
              "      <td>{}</td>\n",
              "      <td>10a54a1ecf794404be959e030f11fef6</td>\n",
              "      <td>bd4a8b3e3601427e88aa1d9eab9f4290</td>\n",
              "      <td>clear</td>\n",
              "      <td>...</td>\n",
              "      <td>NaN</td>\n",
              "      <td>clear</td>\n",
              "      <td>Male</td>\n",
              "      <td>NaN</td>\n",
              "      <td>national_identity_card</td>\n",
              "      <td>NaT</td>\n",
              "      <td>FRA</td>\n",
              "      <td>2007-08</td>\n",
              "      <td>NaN</td>\n",
              "      <td>NaN</td>\n",
              "    </tr>\n",
              "    <tr>\n",
              "      <th>4</th>\n",
              "      <td>f52ad1c7e69543a9940c3e7f8ed28a39</td>\n",
              "      <td>clear</td>\n",
              "      <td>clear</td>\n",
              "      <td>2017-06-20</td>\n",
              "      <td>clear</td>\n",
              "      <td>clear</td>\n",
              "      <td>{}</td>\n",
              "      <td>1f320d1d07de493292b7e0d5ebfb1cb9</td>\n",
              "      <td>f52ad1c7e69543a9940c3e7f8ed28a39</td>\n",
              "      <td>clear</td>\n",
              "      <td>...</td>\n",
              "      <td>NaN</td>\n",
              "      <td>clear</td>\n",
              "      <td>Male</td>\n",
              "      <td>POL</td>\n",
              "      <td>national_identity_card</td>\n",
              "      <td>2019-05-29</td>\n",
              "      <td>POL</td>\n",
              "      <td>NaN</td>\n",
              "      <td>NaN</td>\n",
              "      <td>NaN</td>\n",
              "    </tr>\n",
              "  </tbody>\n",
              "</table>\n",
              "<p>5 rows × 33 columns</p>\n",
              "</div>"
            ],
            "text/plain": [
              "                          user_id_x result_x face_comparison_result  \\\n",
              "0  ab23fae164e34af0a1ad1423ce9fd9f0    clear                  clear   \n",
              "1  15a84e8951254011b47412fa4e8f65b8    clear                  clear   \n",
              "2  ffb82fda52b041e4b9af9cb4ef298c85    clear                  clear   \n",
              "3  bd4a8b3e3601427e88aa1d9eab9f4290    clear                  clear   \n",
              "4  f52ad1c7e69543a9940c3e7f8ed28a39    clear                  clear   \n",
              "\n",
              "  created_at_x facial_image_integrity_result visual_authenticity_result_x  \\\n",
              "0   2017-06-20                         clear                     consider   \n",
              "1   2017-06-20                         clear                        clear   \n",
              "2   2017-06-20                         clear                        clear   \n",
              "3   2017-06-20                         clear                        clear   \n",
              "4   2017-06-20                         clear                        clear   \n",
              "\n",
              "  properties                      attempt_id_x  \\\n",
              "0         {}  050a0596de424fab83c433eaa18b3f8d   \n",
              "1         {}  f69c1e5f45a64e50a26740b9bfb978b7   \n",
              "2         {}  f9f84f3055714d8e8f7419dc984d1769   \n",
              "3         {}  10a54a1ecf794404be959e030f11fef6   \n",
              "4         {}  1f320d1d07de493292b7e0d5ebfb1cb9   \n",
              "\n",
              "                          user_id_y  result_y       ...         \\\n",
              "0  ab23fae164e34af0a1ad1423ce9fd9f0  consider       ...          \n",
              "1  15a84e8951254011b47412fa4e8f65b8     clear       ...          \n",
              "2  ffb82fda52b041e4b9af9cb4ef298c85     clear       ...          \n",
              "3  bd4a8b3e3601427e88aa1d9eab9f4290     clear       ...          \n",
              "4  f52ad1c7e69543a9940c3e7f8ed28a39     clear       ...          \n",
              "\n",
              "  compromised_document_result sub_result  gender nationality  \\\n",
              "0                         NaN    caution    Male         IRL   \n",
              "1                         NaN      clear  Female         NaN   \n",
              "2                         NaN      clear    Male         ITA   \n",
              "3                         NaN      clear    Male         NaN   \n",
              "4                         NaN      clear    Male         POL   \n",
              "\n",
              "            document_type date_of_expiry issuing_country issuing_date  \\\n",
              "0                passport     2019-08-12             IRL          NaN   \n",
              "1         driving_licence     2023-02-28             GBR          NaN   \n",
              "2                passport     2018-06-09             ITA          NaN   \n",
              "3  national_identity_card            NaT             FRA      2007-08   \n",
              "4  national_identity_card     2019-05-29             POL          NaN   \n",
              "\n",
              "  issuing_state document_version  \n",
              "0           NaN              NaN  \n",
              "1           NaN              NaN  \n",
              "2           NaN              NaN  \n",
              "3           NaN              NaN  \n",
              "4           NaN              NaN  \n",
              "\n",
              "[5 rows x 33 columns]"
            ]
          },
          "metadata": {
            "tags": []
          },
          "execution_count": 20
        }
      ]
    },
    {
      "metadata": {
        "id": "QF1Q6h6epq_T",
        "colab_type": "code",
        "colab": {}
      },
      "cell_type": "code",
      "source": [
        "duplicated = set()\n",
        "for column in df.columns:\n",
        "    if \"_x\" in column or \"_y\" in column:\n",
        "        name = column.replace(\"_x\", \"\")\n",
        "        name = name.replace(\"_y\", \"\")\n",
        "        duplicated.add(name)\n",
        "\n",
        "\n",
        "def compare_columns(column, df):\n",
        "    return df[column + \"_x\"].equals(df[column + \"_y\"])"
      ],
      "execution_count": 0,
      "outputs": []
    },
    {
      "metadata": {
        "id": "WJ1yxBs8qU7_",
        "colab_type": "code",
        "colab": {}
      },
      "cell_type": "code",
      "source": [
        "for name in duplicated:\n",
        "    facial_col = name + \"_x\"\n",
        "    docs_col = name + \"_y\"\n",
        "    if compare_columns(name, df):\n",
        "        df.rename({facial_col: name}, axis=1, inplace=True)\n",
        "        df.drop(docs_col, inplace=True, axis=1)\n",
        "    else:\n",
        "        df.rename({facial_col: \"Facial_\" + name, docs_col: \"Docs_\" +\n",
        "                   name}, axis=1, inplace=True)"
      ],
      "execution_count": 0,
      "outputs": []
    },
    {
      "metadata": {
        "id": "YEpmGslCqcvY",
        "colab_type": "code",
        "colab": {
          "base_uri": "https://localhost:8080/",
          "height": 253
        },
        "outputId": "229ccf47-36d4-4a49-cb10-26382e16c989"
      },
      "cell_type": "code",
      "source": [
        "df.head()"
      ],
      "execution_count": 26,
      "outputs": [
        {
          "output_type": "execute_result",
          "data": {
            "text/html": [
              "<div>\n",
              "<style scoped>\n",
              "    .dataframe tbody tr th:only-of-type {\n",
              "        vertical-align: middle;\n",
              "    }\n",
              "\n",
              "    .dataframe tbody tr th {\n",
              "        vertical-align: top;\n",
              "    }\n",
              "\n",
              "    .dataframe thead th {\n",
              "        text-align: right;\n",
              "    }\n",
              "</style>\n",
              "<table border=\"1\" class=\"dataframe\">\n",
              "  <thead>\n",
              "    <tr style=\"text-align: right;\">\n",
              "      <th></th>\n",
              "      <th>user_id</th>\n",
              "      <th>FACIAL_result</th>\n",
              "      <th>face_comparison_result</th>\n",
              "      <th>created_at</th>\n",
              "      <th>facial_image_integrity_result</th>\n",
              "      <th>visual_authenticity_result</th>\n",
              "      <th>properties</th>\n",
              "      <th>FACIAL_attempt_id</th>\n",
              "      <th>DOCS_result</th>\n",
              "      <th>image_integrity_result</th>\n",
              "      <th>...</th>\n",
              "      <th>compromised_document_result</th>\n",
              "      <th>sub_result</th>\n",
              "      <th>gender</th>\n",
              "      <th>nationality</th>\n",
              "      <th>document_type</th>\n",
              "      <th>date_of_expiry</th>\n",
              "      <th>issuing_country</th>\n",
              "      <th>issuing_date</th>\n",
              "      <th>issuing_state</th>\n",
              "      <th>document_version</th>\n",
              "    </tr>\n",
              "  </thead>\n",
              "  <tbody>\n",
              "    <tr>\n",
              "      <th>0</th>\n",
              "      <td>ab23fae164e34af0a1ad1423ce9fd9f0</td>\n",
              "      <td>clear</td>\n",
              "      <td>clear</td>\n",
              "      <td>2017-06-20</td>\n",
              "      <td>clear</td>\n",
              "      <td>consider</td>\n",
              "      <td>{}</td>\n",
              "      <td>050a0596de424fab83c433eaa18b3f8d</td>\n",
              "      <td>consider</td>\n",
              "      <td>clear</td>\n",
              "      <td>...</td>\n",
              "      <td>NaN</td>\n",
              "      <td>caution</td>\n",
              "      <td>Male</td>\n",
              "      <td>IRL</td>\n",
              "      <td>passport</td>\n",
              "      <td>2019-08-12</td>\n",
              "      <td>IRL</td>\n",
              "      <td>NaN</td>\n",
              "      <td>NaN</td>\n",
              "      <td>NaN</td>\n",
              "    </tr>\n",
              "    <tr>\n",
              "      <th>1</th>\n",
              "      <td>15a84e8951254011b47412fa4e8f65b8</td>\n",
              "      <td>clear</td>\n",
              "      <td>clear</td>\n",
              "      <td>2017-06-20</td>\n",
              "      <td>clear</td>\n",
              "      <td>clear</td>\n",
              "      <td>{}</td>\n",
              "      <td>f69c1e5f45a64e50a26740b9bfb978b7</td>\n",
              "      <td>clear</td>\n",
              "      <td>clear</td>\n",
              "      <td>...</td>\n",
              "      <td>NaN</td>\n",
              "      <td>clear</td>\n",
              "      <td>Female</td>\n",
              "      <td>NaN</td>\n",
              "      <td>driving_licence</td>\n",
              "      <td>2023-02-28</td>\n",
              "      <td>GBR</td>\n",
              "      <td>NaN</td>\n",
              "      <td>NaN</td>\n",
              "      <td>NaN</td>\n",
              "    </tr>\n",
              "    <tr>\n",
              "      <th>2</th>\n",
              "      <td>ffb82fda52b041e4b9af9cb4ef298c85</td>\n",
              "      <td>clear</td>\n",
              "      <td>clear</td>\n",
              "      <td>2017-06-20</td>\n",
              "      <td>clear</td>\n",
              "      <td>clear</td>\n",
              "      <td>{}</td>\n",
              "      <td>f9f84f3055714d8e8f7419dc984d1769</td>\n",
              "      <td>clear</td>\n",
              "      <td>clear</td>\n",
              "      <td>...</td>\n",
              "      <td>NaN</td>\n",
              "      <td>clear</td>\n",
              "      <td>Male</td>\n",
              "      <td>ITA</td>\n",
              "      <td>passport</td>\n",
              "      <td>2018-06-09</td>\n",
              "      <td>ITA</td>\n",
              "      <td>NaN</td>\n",
              "      <td>NaN</td>\n",
              "      <td>NaN</td>\n",
              "    </tr>\n",
              "    <tr>\n",
              "      <th>3</th>\n",
              "      <td>bd4a8b3e3601427e88aa1d9eab9f4290</td>\n",
              "      <td>clear</td>\n",
              "      <td>clear</td>\n",
              "      <td>2017-06-20</td>\n",
              "      <td>clear</td>\n",
              "      <td>clear</td>\n",
              "      <td>{}</td>\n",
              "      <td>10a54a1ecf794404be959e030f11fef6</td>\n",
              "      <td>clear</td>\n",
              "      <td>clear</td>\n",
              "      <td>...</td>\n",
              "      <td>NaN</td>\n",
              "      <td>clear</td>\n",
              "      <td>Male</td>\n",
              "      <td>NaN</td>\n",
              "      <td>national_identity_card</td>\n",
              "      <td>NaT</td>\n",
              "      <td>FRA</td>\n",
              "      <td>2007-08</td>\n",
              "      <td>NaN</td>\n",
              "      <td>NaN</td>\n",
              "    </tr>\n",
              "    <tr>\n",
              "      <th>4</th>\n",
              "      <td>f52ad1c7e69543a9940c3e7f8ed28a39</td>\n",
              "      <td>clear</td>\n",
              "      <td>clear</td>\n",
              "      <td>2017-06-20</td>\n",
              "      <td>clear</td>\n",
              "      <td>clear</td>\n",
              "      <td>{}</td>\n",
              "      <td>1f320d1d07de493292b7e0d5ebfb1cb9</td>\n",
              "      <td>clear</td>\n",
              "      <td>clear</td>\n",
              "      <td>...</td>\n",
              "      <td>NaN</td>\n",
              "      <td>clear</td>\n",
              "      <td>Male</td>\n",
              "      <td>POL</td>\n",
              "      <td>national_identity_card</td>\n",
              "      <td>2019-05-29</td>\n",
              "      <td>POL</td>\n",
              "      <td>NaN</td>\n",
              "      <td>NaN</td>\n",
              "      <td>NaN</td>\n",
              "    </tr>\n",
              "  </tbody>\n",
              "</table>\n",
              "<p>5 rows × 30 columns</p>\n",
              "</div>"
            ],
            "text/plain": [
              "                            user_id FACIAL_result face_comparison_result  \\\n",
              "0  ab23fae164e34af0a1ad1423ce9fd9f0         clear                  clear   \n",
              "1  15a84e8951254011b47412fa4e8f65b8         clear                  clear   \n",
              "2  ffb82fda52b041e4b9af9cb4ef298c85         clear                  clear   \n",
              "3  bd4a8b3e3601427e88aa1d9eab9f4290         clear                  clear   \n",
              "4  f52ad1c7e69543a9940c3e7f8ed28a39         clear                  clear   \n",
              "\n",
              "   created_at facial_image_integrity_result visual_authenticity_result  \\\n",
              "0  2017-06-20                         clear                   consider   \n",
              "1  2017-06-20                         clear                      clear   \n",
              "2  2017-06-20                         clear                      clear   \n",
              "3  2017-06-20                         clear                      clear   \n",
              "4  2017-06-20                         clear                      clear   \n",
              "\n",
              "  properties                 FACIAL_attempt_id DOCS_result  \\\n",
              "0         {}  050a0596de424fab83c433eaa18b3f8d    consider   \n",
              "1         {}  f69c1e5f45a64e50a26740b9bfb978b7       clear   \n",
              "2         {}  f9f84f3055714d8e8f7419dc984d1769       clear   \n",
              "3         {}  10a54a1ecf794404be959e030f11fef6       clear   \n",
              "4         {}  1f320d1d07de493292b7e0d5ebfb1cb9       clear   \n",
              "\n",
              "  image_integrity_result       ...        compromised_document_result  \\\n",
              "0                  clear       ...                                NaN   \n",
              "1                  clear       ...                                NaN   \n",
              "2                  clear       ...                                NaN   \n",
              "3                  clear       ...                                NaN   \n",
              "4                  clear       ...                                NaN   \n",
              "\n",
              "  sub_result  gender nationality           document_type date_of_expiry  \\\n",
              "0    caution    Male         IRL                passport     2019-08-12   \n",
              "1      clear  Female         NaN         driving_licence     2023-02-28   \n",
              "2      clear    Male         ITA                passport     2018-06-09   \n",
              "3      clear    Male         NaN  national_identity_card            NaT   \n",
              "4      clear    Male         POL  national_identity_card     2019-05-29   \n",
              "\n",
              "  issuing_country issuing_date issuing_state document_version  \n",
              "0             IRL          NaN           NaN              NaN  \n",
              "1             GBR          NaN           NaN              NaN  \n",
              "2             ITA          NaN           NaN              NaN  \n",
              "3             FRA      2007-08           NaN              NaN  \n",
              "4             POL          NaN           NaN              NaN  \n",
              "\n",
              "[5 rows x 30 columns]"
            ]
          },
          "metadata": {
            "tags": []
          },
          "execution_count": 26
        }
      ]
    },
    {
      "metadata": {
        "id": "6fcNVhUPqeKw",
        "colab_type": "code",
        "colab": {}
      },
      "cell_type": "code",
      "source": [
        "df.sort_values([\"created_at\"], inplace=True)\n",
        "df.reset_index(drop=True,inplace=True)"
      ],
      "execution_count": 0,
      "outputs": []
    },
    {
      "metadata": {
        "id": "Vo-bo9Yaq-B0",
        "colab_type": "code",
        "colab": {}
      },
      "cell_type": "code",
      "source": [
        "face_result = df[\"FACIAL_result\"] == \"clear\"\n",
        "docs_result = df[\"DOCS_result\"] == \"clear\"\n",
        "df['Pass'] = face_result & docs_result"
      ],
      "execution_count": 0,
      "outputs": []
    },
    {
      "metadata": {
        "id": "KpUorsVxrTJu",
        "colab_type": "code",
        "colab": {}
      },
      "cell_type": "code",
      "source": [
        "one_attempt_users = df.drop_duplicates('user_id', False)"
      ],
      "execution_count": 0,
      "outputs": []
    },
    {
      "metadata": {
        "id": "tpKKyImhwKfK",
        "colab_type": "code",
        "colab": {}
      },
      "cell_type": "code",
      "source": [
        "multiple_user_attempts = df[df.duplicated('user_id', keep=False)]\n",
        "df_multiple_1st = multiple_user_attempts.drop_duplicates('user_id', 'first')\n",
        "df_multiple_last = multiple_user_attempts.drop_duplicates('user_id', 'last') \n",
        "df_multiple_passed1st = df_multiple_1st[df_multiple_1st[\"Pass\"]]"
      ],
      "execution_count": 0,
      "outputs": []
    },
    {
      "metadata": {
        "id": "_jg2kMz6xgK8",
        "colab_type": "code",
        "colab": {}
      },
      "cell_type": "code",
      "source": [
        "df_multiple_failed_first = df_multiple_1st[df_multiple_1st['Pass'] == False]\n",
        "df_2nd_attempt = multiple_user_attempts.groupby(['user_id']).head(2).groupby(['user_id']).tail(1)\n",
        "df_first_attempt = df.drop_duplicates('user_id', 'first')"
      ],
      "execution_count": 0,
      "outputs": []
    },
    {
      "metadata": {
        "id": "7zgVs5ivx4vH",
        "colab_type": "code",
        "colab": {}
      },
      "cell_type": "code",
      "source": [
        "x1 = pd.concat([df_multiple_failed_first, df_2nd_attempt])\n",
        "x1 = x1.drop_duplicates('user_id', 'last')\n",
        "y2 = pd.concat([df_first_attempt, x1])\n",
        "y2 = y2.drop_duplicates('user_id', 'last')\n",
        "df_pass_rate = y2.sort_values([\"created_at\"])\n",
        "df_pass_rate.reset_index(drop=True, inplace=True)"
      ],
      "execution_count": 0,
      "outputs": []
    },
    {
      "metadata": {
        "id": "ZucNAWkGyavT",
        "colab_type": "code",
        "colab": {
          "base_uri": "https://localhost:8080/",
          "height": 253
        },
        "outputId": "858186aa-e2d2-41b3-af08-beb13a34a37f"
      },
      "cell_type": "code",
      "source": [
        "df.head()"
      ],
      "execution_count": 41,
      "outputs": [
        {
          "output_type": "execute_result",
          "data": {
            "text/html": [
              "<div>\n",
              "<style scoped>\n",
              "    .dataframe tbody tr th:only-of-type {\n",
              "        vertical-align: middle;\n",
              "    }\n",
              "\n",
              "    .dataframe tbody tr th {\n",
              "        vertical-align: top;\n",
              "    }\n",
              "\n",
              "    .dataframe thead th {\n",
              "        text-align: right;\n",
              "    }\n",
              "</style>\n",
              "<table border=\"1\" class=\"dataframe\">\n",
              "  <thead>\n",
              "    <tr style=\"text-align: right;\">\n",
              "      <th></th>\n",
              "      <th>user_id</th>\n",
              "      <th>FACIAL_result</th>\n",
              "      <th>face_comparison_result</th>\n",
              "      <th>created_at</th>\n",
              "      <th>facial_image_integrity_result</th>\n",
              "      <th>visual_authenticity_result</th>\n",
              "      <th>properties</th>\n",
              "      <th>FACIAL_attempt_id</th>\n",
              "      <th>DOCS_result</th>\n",
              "      <th>image_integrity_result</th>\n",
              "      <th>...</th>\n",
              "      <th>sub_result</th>\n",
              "      <th>gender</th>\n",
              "      <th>nationality</th>\n",
              "      <th>document_type</th>\n",
              "      <th>date_of_expiry</th>\n",
              "      <th>issuing_country</th>\n",
              "      <th>issuing_date</th>\n",
              "      <th>issuing_state</th>\n",
              "      <th>document_version</th>\n",
              "      <th>Pass</th>\n",
              "    </tr>\n",
              "  </thead>\n",
              "  <tbody>\n",
              "    <tr>\n",
              "      <th>0</th>\n",
              "      <td>eb880365e8224b469d4503e3434b2853</td>\n",
              "      <td>clear</td>\n",
              "      <td>clear</td>\n",
              "      <td>2017-05-23</td>\n",
              "      <td>clear</td>\n",
              "      <td>clear</td>\n",
              "      <td>{'score': 0.66}</td>\n",
              "      <td>3f43101902d247eeb7d7cf5720328b58</td>\n",
              "      <td>clear</td>\n",
              "      <td>clear</td>\n",
              "      <td>...</td>\n",
              "      <td>clear</td>\n",
              "      <td>Female</td>\n",
              "      <td>CHN</td>\n",
              "      <td>passport</td>\n",
              "      <td>2025-09-06</td>\n",
              "      <td>CHN</td>\n",
              "      <td>NaN</td>\n",
              "      <td>NaN</td>\n",
              "      <td>NaN</td>\n",
              "      <td>True</td>\n",
              "    </tr>\n",
              "    <tr>\n",
              "      <th>1</th>\n",
              "      <td>c7d536122c2c494cb08757c6e2806093</td>\n",
              "      <td>clear</td>\n",
              "      <td>clear</td>\n",
              "      <td>2017-05-23</td>\n",
              "      <td>clear</td>\n",
              "      <td>clear</td>\n",
              "      <td>{'score': 0.69}</td>\n",
              "      <td>002498134c1b47c987277a3ada7f06dc</td>\n",
              "      <td>clear</td>\n",
              "      <td>clear</td>\n",
              "      <td>...</td>\n",
              "      <td>clear</td>\n",
              "      <td>Male</td>\n",
              "      <td>POL</td>\n",
              "      <td>national_identity_card</td>\n",
              "      <td>2025-12-28</td>\n",
              "      <td>POL</td>\n",
              "      <td>NaN</td>\n",
              "      <td>NaN</td>\n",
              "      <td>NaN</td>\n",
              "      <td>True</td>\n",
              "    </tr>\n",
              "    <tr>\n",
              "      <th>2</th>\n",
              "      <td>6e01ed0df18948808d4d8b2762ccd116</td>\n",
              "      <td>clear</td>\n",
              "      <td>clear</td>\n",
              "      <td>2017-05-23</td>\n",
              "      <td>clear</td>\n",
              "      <td>clear</td>\n",
              "      <td>{'score': 0.69}</td>\n",
              "      <td>71c31b8451424a78a5899140b08dfca8</td>\n",
              "      <td>clear</td>\n",
              "      <td>clear</td>\n",
              "      <td>...</td>\n",
              "      <td>clear</td>\n",
              "      <td>NaN</td>\n",
              "      <td>NaN</td>\n",
              "      <td>driving_licence</td>\n",
              "      <td>2031-06-10</td>\n",
              "      <td>GRC</td>\n",
              "      <td>NaN</td>\n",
              "      <td>NaN</td>\n",
              "      <td>NaN</td>\n",
              "      <td>True</td>\n",
              "    </tr>\n",
              "    <tr>\n",
              "      <th>3</th>\n",
              "      <td>6e01ed0df18948808d4d8b2762ccd116</td>\n",
              "      <td>clear</td>\n",
              "      <td>clear</td>\n",
              "      <td>2017-05-23</td>\n",
              "      <td>clear</td>\n",
              "      <td>clear</td>\n",
              "      <td>{'score': 0.69}</td>\n",
              "      <td>85f99d1bd1ee4ece9b5eef157893b3c6</td>\n",
              "      <td>clear</td>\n",
              "      <td>clear</td>\n",
              "      <td>...</td>\n",
              "      <td>clear</td>\n",
              "      <td>NaN</td>\n",
              "      <td>NaN</td>\n",
              "      <td>driving_licence</td>\n",
              "      <td>2031-06-10</td>\n",
              "      <td>GRC</td>\n",
              "      <td>NaN</td>\n",
              "      <td>NaN</td>\n",
              "      <td>NaN</td>\n",
              "      <td>True</td>\n",
              "    </tr>\n",
              "    <tr>\n",
              "      <th>4</th>\n",
              "      <td>4b939fe40b2346c5a8b820fa9977e1ef</td>\n",
              "      <td>clear</td>\n",
              "      <td>clear</td>\n",
              "      <td>2017-05-23</td>\n",
              "      <td>clear</td>\n",
              "      <td>clear</td>\n",
              "      <td>{'score': 0.52}</td>\n",
              "      <td>88139856c9764fb1854be54a0de8794f</td>\n",
              "      <td>clear</td>\n",
              "      <td>clear</td>\n",
              "      <td>...</td>\n",
              "      <td>clear</td>\n",
              "      <td>Male</td>\n",
              "      <td>NaN</td>\n",
              "      <td>driving_licence</td>\n",
              "      <td>2022-07-30</td>\n",
              "      <td>GBR</td>\n",
              "      <td>NaN</td>\n",
              "      <td>NaN</td>\n",
              "      <td>NaN</td>\n",
              "      <td>True</td>\n",
              "    </tr>\n",
              "  </tbody>\n",
              "</table>\n",
              "<p>5 rows × 31 columns</p>\n",
              "</div>"
            ],
            "text/plain": [
              "                            user_id FACIAL_result face_comparison_result  \\\n",
              "0  eb880365e8224b469d4503e3434b2853         clear                  clear   \n",
              "1  c7d536122c2c494cb08757c6e2806093         clear                  clear   \n",
              "2  6e01ed0df18948808d4d8b2762ccd116         clear                  clear   \n",
              "3  6e01ed0df18948808d4d8b2762ccd116         clear                  clear   \n",
              "4  4b939fe40b2346c5a8b820fa9977e1ef         clear                  clear   \n",
              "\n",
              "   created_at facial_image_integrity_result visual_authenticity_result  \\\n",
              "0  2017-05-23                         clear                      clear   \n",
              "1  2017-05-23                         clear                      clear   \n",
              "2  2017-05-23                         clear                      clear   \n",
              "3  2017-05-23                         clear                      clear   \n",
              "4  2017-05-23                         clear                      clear   \n",
              "\n",
              "        properties                 FACIAL_attempt_id DOCS_result  \\\n",
              "0  {'score': 0.66}  3f43101902d247eeb7d7cf5720328b58       clear   \n",
              "1  {'score': 0.69}  002498134c1b47c987277a3ada7f06dc       clear   \n",
              "2  {'score': 0.69}  71c31b8451424a78a5899140b08dfca8       clear   \n",
              "3  {'score': 0.69}  85f99d1bd1ee4ece9b5eef157893b3c6       clear   \n",
              "4  {'score': 0.52}  88139856c9764fb1854be54a0de8794f       clear   \n",
              "\n",
              "  image_integrity_result  ...  sub_result  gender nationality  \\\n",
              "0                  clear  ...       clear  Female         CHN   \n",
              "1                  clear  ...       clear    Male         POL   \n",
              "2                  clear  ...       clear     NaN         NaN   \n",
              "3                  clear  ...       clear     NaN         NaN   \n",
              "4                  clear  ...       clear    Male         NaN   \n",
              "\n",
              "            document_type date_of_expiry issuing_country issuing_date  \\\n",
              "0                passport     2025-09-06             CHN          NaN   \n",
              "1  national_identity_card     2025-12-28             POL          NaN   \n",
              "2         driving_licence     2031-06-10             GRC          NaN   \n",
              "3         driving_licence     2031-06-10             GRC          NaN   \n",
              "4         driving_licence     2022-07-30             GBR          NaN   \n",
              "\n",
              "  issuing_state document_version  Pass  \n",
              "0           NaN              NaN  True  \n",
              "1           NaN              NaN  True  \n",
              "2           NaN              NaN  True  \n",
              "3           NaN              NaN  True  \n",
              "4           NaN              NaN  True  \n",
              "\n",
              "[5 rows x 31 columns]"
            ]
          },
          "metadata": {
            "tags": []
          },
          "execution_count": 41
        }
      ]
    },
    {
      "metadata": {
        "id": "a_Nr6LJjyeb7",
        "colab_type": "code",
        "colab": {
          "base_uri": "https://localhost:8080/",
          "height": 122
        },
        "outputId": "958fdfab-87bd-46ec-b91b-d7a2d390f155"
      },
      "cell_type": "code",
      "source": [
        "from google.colab import drive\n",
        "drive.mount('drive')"
      ],
      "execution_count": 42,
      "outputs": [
        {
          "output_type": "stream",
          "text": [
            "Go to this URL in a browser: https://accounts.google.com/o/oauth2/auth?client_id=947318989803-6bn6qk8qdgf4n4g3pfee6491hc0brc4i.apps.googleusercontent.com&redirect_uri=urn%3Aietf%3Awg%3Aoauth%3A2.0%3Aoob&scope=email%20https%3A%2F%2Fwww.googleapis.com%2Fauth%2Fdocs.test%20https%3A%2F%2Fwww.googleapis.com%2Fauth%2Fdrive%20https%3A%2F%2Fwww.googleapis.com%2Fauth%2Fdrive.photos.readonly%20https%3A%2F%2Fwww.googleapis.com%2Fauth%2Fpeopleapi.readonly&response_type=code\n",
            "\n",
            "Enter your authorization code:\n",
            "··········\n",
            "Mounted at drive\n"
          ],
          "name": "stdout"
        }
      ]
    },
    {
      "metadata": {
        "id": "ZItt-5bZypyM",
        "colab_type": "code",
        "colab": {}
      },
      "cell_type": "code",
      "source": [
        "df.to_csv('data_cleansed.csv')\n",
        "!cp data_cleansed.csv drive/My\\ Drive/"
      ],
      "execution_count": 0,
      "outputs": []
    },
    {
      "metadata": {
        "id": "7wTBjTl6y79Y",
        "colab_type": "code",
        "colab": {}
      },
      "cell_type": "code",
      "source": [
        ""
      ],
      "execution_count": 0,
      "outputs": []
    }
  ]
}